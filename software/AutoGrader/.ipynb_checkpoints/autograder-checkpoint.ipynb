{
 "cells": [
  {
   "cell_type": "code",
   "execution_count": 304,
   "metadata": {},
   "outputs": [],
   "source": [
    "from pyeda.inter import *\n",
    "import yaml\n",
    "import re\n",
    "import pickle\n",
    "from collections import Counter"
   ]
  },
  {
   "cell_type": "code",
   "execution_count": 284,
   "metadata": {},
   "outputs": [],
   "source": [
    "class AutoGraderHelpers:\n",
    "    # some helpers\n",
    "    @staticmethod\n",
    "    def checkAllStr(l):\n",
    "        assert type(l) is list\n",
    "        return all(type(e) is str for e in l)\n",
    "    \n",
    "    @staticmethod\n",
    "    def checkAllList(l):\n",
    "        assert type(l) is list\n",
    "        return all(type(e) is list for e in l)\n",
    "    \n",
    "    # testin and answer are strings or list of stirngs, and are matched element by element\n",
    "    @classmethod\n",
    "    def matchElementInList(cls,answer,testin,cond=None,matchtype='exact'):\n",
    "        assert matchtype in ['int','float','exact','nocase']\n",
    "        assert cond in [None,'all','any']\n",
    "        testin = [e.split() for e in testin.strip().split('\\n')]\n",
    "        assert type(answer) is str or cls.checkAllStr(answer)\n",
    "        if type(answer) is str:\n",
    "            answer = [answer]\n",
    "        if matchtype=='int':\n",
    "            flags = [int(e1)==int(e2) for e1,e2 in zip(answer,testin)]\n",
    "        elif matchtype=='float':\n",
    "            flags = [float(e1)==float(e2) for e1,e2 in zip(answer,testin)]\n",
    "        elif matchtype=='nocase':\n",
    "            flags = [e1.lower()==e2.lower() for e1,e2 in zip(answer,testin)]\n",
    "        else:\n",
    "            flags = [e1==e2 for e1,e2 in zip(answer,testin)]\n",
    "        if cond=='all':\n",
    "            return all(flags)\n",
    "        elif cond=='any':\n",
    "            return any(flags)\n",
    "        else:\n",
    "            return flags\n",
    "        \n",
    "    # each line of answer is expected to be a singleton or a list, and \n",
    "    # supposed to match to a corresponding singleton or a list of the same length\n",
    "    @classmethod\n",
    "    def matchList(cls,answer,testin,cond=None,ordered=False):\n",
    "        assert cond in [None,'all','any']\n",
    "        testin = [e.split() for e in testin.strip().split('\\n')]\n",
    "        assert cls.checkAllStr(answer) or (cls.checkAllList(answer) and all(cls.checkAllStr(e) for e in answer))\n",
    "        if cls.checkAllStr(answer):\n",
    "            answer = [answer]\n",
    "        if len(answer)!=len(testin):\n",
    "            return False\n",
    "        if ordered:\n",
    "            flags = [e1==e2 for e1,e2 in zip(answer,testin)]\n",
    "        else:\n",
    "            flags = [sorted(e1)==sorted(e2)for e1,e2 in zip(answer,testin)]\n",
    "        if cond=='all':\n",
    "            return all(flags)\n",
    "        elif cond=='any':\n",
    "            return any(flags)\n",
    "        else:\n",
    "            return flags\n",
    "    \n",
    "    #\n",
    "    # answer: \"D101010110101DDD\"\n",
    "    def boolEquivalentTruthTable(self,answer,testin):\n",
    "        testin = testin.strip().split('\\n')\n",
    "        return False\n",
    "    \n",
    "    #\n",
    "    # answer: [D110, 0110, 1DDD, 1001]\n",
    "    def boolEquivalentKMap(self,answer,testin):\n",
    "        testin = testin.strip().split('\\n')\n",
    "        return False\n",
    "    \n",
    "        \n",
    "    # boolean expression string or a list of boolean expression strings\n",
    "    def boolEquivalentExpression(self,vars,answer,testin,form=None,ops=None):\n",
    "        testin = testin.strip().split('\\n')\n",
    "        assert type(answer) is str or type(answer) is list\n",
    "        if type(answer) is str:\n",
    "            answer = [answer]\n",
    "        assert len(testin)==len(answer)\n",
    "        assert form in [None, 'pos', 'sop', 'DNF', 'CNF']\n",
    "        for _vn in vars:\n",
    "            exec(\"{0}=exprvar('{0}')\".format(_vn))\n",
    "        _results=[]\n",
    "        for _e1,_e2 in zip(answer,testin):\n",
    "            _results.append(expr(_e1).equivalent(_e2))\n",
    "        return _results\n",
    "    \n",
    "    def logisimCombinationalTester(self,answer,testin,config,logisim=None):\n",
    "        pass"
   ]
  },
  {
   "cell_type": "code",
   "execution_count": 285,
   "metadata": {},
   "outputs": [],
   "source": [
    "class YAMLHelpers:\n",
    "    @staticmethod\n",
    "    def extractHeader(allcontent):\n",
    "        all_content = allcontent.strip().rstrip()\n",
    "        yaml_header = {}\n",
    "        if all_content[:3]==\"---\":\n",
    "            i = all_content[4:].find(\"\\n---\")\n",
    "            if i!=-1:\n",
    "                try:\n",
    "                    #import pdb; pdb.set_trace()\n",
    "                    yaml_header = yaml.full_load(all_content[0:i+5])\n",
    "                    all_content = all_content[i+9:].strip()\n",
    "                except yaml.scanner.ScannerError as e:\n",
    "                    raise SystemExit(\"Error: YAML Header has error: {0}\".format(e))\n",
    "                except:\n",
    "                    raise SystemExit(\"Error: YAML Header has error\")\n",
    "        return (yaml_header,all_content) "
   ]
  },
  {
   "cell_type": "code",
   "execution_count": 482,
   "metadata": {},
   "outputs": [],
   "source": [
    "DEFAULT_GRADINGINFO_FILE = '/Users/mbs/Courses/ECEM16/Spring 2020/psets/pset1/grading_info.pkl'\n",
    "DEFAULT_ANSWER_FILE = '/Users/mbs/Courses/ECEM16/Spring 2020/psets/pset1/outputs/answers.txt'\n",
    "\n",
    "class AutoGrader():\n",
    "    def __init__(self, gradingfilename=DEFAULT_GRADINGINFO_FILE, answerfilename=DEFAULT_ANSWER_FILE):\n",
    "        self.grading_info = {(e['probnum'],e.get('subprobnum',None),e.get('version',None)): {\n",
    "            'answer_key':e.get('answer_key',None), \n",
    "            'probpoints':e.get('probpoints',None)} for e in list(pickle.load(open(gradingfilename,'rb')).values())[0]}\n",
    "        self.answers = {(e['probnum'],e.get('subprobnum',None),e.get('version',None)): e.get('text',None)\n",
    "                        for e in self.readAnswerFile(answerfilename)}\n",
    "\n",
    "    @staticmethod\n",
    "    def readAnswerFile(answerfilename):\n",
    "        with open(answerfilename,'r') as f:\n",
    "            content = f.read()\n",
    "        header,body = YAMLHelpers.extractHeader(content)\n",
    "        body = body.split('---\\n')\n",
    "        matcher = re.compile(r'(#(.*?)\\n)+')\n",
    "        answers = []\n",
    "        for answer_text in body:\n",
    "            if answer_text[0:8]!=\"# Answer\":\n",
    "                continue\n",
    "            answer = {}\n",
    "            m = re.search(r'# Answer\\s+(\\d+)(.(\\d+))?(\\s+\\[ver(\\d+)\\])?\\s*\\n',answer_text)\n",
    "            answer['probnum'] = m[1]\n",
    "            if m[3]: answer['subprobnum'] = m[3]\n",
    "            if m[5]: answer['version'] = m[5]\n",
    "            answer['text'] = []\n",
    "            answer_text_parts = matcher.sub('#\\n',answer_text).split('#\\n')\n",
    "            for answer_text_part in answer_text_parts:\n",
    "                if answer_text_part==\"\":\n",
    "                    continue\n",
    "                answer['text'].append(list(filter(lambda x: x!='',answer_text_part.split('\\n'))))\n",
    "            answers.append(answer)\n",
    "        return answers\n",
    "    \n",
    "    @staticmethod\n",
    "    def makePrettyProblemNumber(p):\n",
    "        r = \"Problem {0}\".format(p[0])\n",
    "        if len(p)>1 and p[1]:\n",
    "            r += \", Subproblem {0}\".format(p[1])\n",
    "        if len(p)>2 and p[2]:\n",
    "            r += \", Version {0}\".format(p[2])\n",
    "        return r\n",
    "        \n",
    "    def doGrading(self,sanityCheckOnly=True):\n",
    "        # check that questions are answered only once\n",
    "        C = Counter([(e[0],e[1]) for e in self.answers.keys()])\n",
    "        results = {}\n",
    "        e = \"\"\n",
    "        for p in C:\n",
    "            if C[p]>1:\n",
    "                m = \"Multiple answers for {0}\".format(self.makePrettyProblemNumber(p))\n",
    "                print(m)\n",
    "                e += m+\"\\n\"\n",
    "                results[p] = {'error':[m]}\n",
    "            else:\n",
    "                results[p] = {'error':[]}\n",
    "        # now check format of anwers for every question\n",
    "        for problem,answers in self.answers.items():\n",
    "            print(\"\\nAnalyzing {0}\".format(self.makePrettyProblemNumber(problem)))\n",
    "            keys = self.grading_info.get(problem,{}).get('answer_key',[])\n",
    "            if (len(answers)!=len(keys)):\n",
    "                m = \"Incorrect # of parts in answer for {0}: expected {1} parts, got {2} parts.\".format(\n",
    "                    self.makePrettyProblemNumber(problem),len(keys),len(answers))\n",
    "                results[problem].append(m)\n",
    "                print(m)\n",
    "                print(problem)\n",
    "                print(answers)\n",
    "                print(keys)\n",
    "                e += m+\"\\n\"\n",
    "            results = []\n",
    "            for apart, kpart in zip(answers,keys):\n",
    "                if (kpart['type']=='int'):\n",
    "                    return apart, kpart\n",
    "                elif (kpart['type']=='str'):\n",
    "                    pass\n",
    "                elif (kpart['type']=='float'):\n",
    "                    pass\n",
    "                elif (kpart['type']=='kmap'):\n",
    "                    pass\n",
    "                elif (kpart['type']=='truthtable'):\n",
    "                    pass\n",
    "                elif (kpart['type']=='file'):\n",
    "                    pass\n",
    "                elif (kpart['type']=='other'):\n",
    "                    pass\n",
    "        return"
   ]
  },
  {
   "cell_type": "code",
   "execution_count": null,
   "metadata": {},
   "outputs": [],
   "source": [
    "ag = AutoGrader()"
   ]
  },
  {
   "cell_type": "code",
   "execution_count": null,
   "metadata": {},
   "outputs": [],
   "source": [
    "ag.doGrading()"
   ]
  },
  {
   "cell_type": "code",
   "execution_count": null,
   "metadata": {},
   "outputs": [],
   "source": []
  },
  {
   "cell_type": "code",
   "execution_count": 368,
   "metadata": {},
   "outputs": [
    {
     "name": "stdout",
     "output_type": "stream",
     "text": [
      "DONE!\n"
     ]
    }
   ],
   "source": [
    "a.processAssignment()\n",
    "a.saveGradingInfo()\n",
    "print(\"DONE!\")"
   ]
  },
  {
   "cell_type": "code",
   "execution_count": 474,
   "metadata": {},
   "outputs": [
    {
     "data": {
      "text/plain": [
       "5"
      ]
     },
     "execution_count": 474,
     "metadata": {},
     "output_type": "execute_result"
    }
   ],
   "source": [
    "eval('5')"
   ]
  },
  {
   "cell_type": "code",
   "execution_count": 470,
   "metadata": {},
   "outputs": [
    {
     "data": {
      "text/plain": [
       "{'type': 'other',\n",
       " 'answer': '[[2, 3, 6, 7, 8, 9, 10, 11, 12, 13, 14, 15], [0, 1, 4, 5]]',\n",
       " 'helper': {'func': 'matchList', 'cond': 'all'}}"
      ]
     },
     "execution_count": 470,
     "metadata": {},
     "output_type": "execute_result"
    }
   ],
   "source": [
    "ag.grading_info[('1',None,None)]['answer_key'][0]"
   ]
  },
  {
   "cell_type": "code",
   "execution_count": 463,
   "metadata": {},
   "outputs": [
    {
     "data": {
      "text/plain": [
       "'5 6 7'"
      ]
     },
     "execution_count": 463,
     "metadata": {},
     "output_type": "execute_result"
    }
   ],
   "source": [
    "' '.join(ag.answers[('1',None,None)][0])"
   ]
  },
  {
   "cell_type": "code",
   "execution_count": 406,
   "metadata": {},
   "outputs": [
    {
     "data": {
      "text/plain": [
       "[('1', None, None),\n",
       " ('2', None, None),\n",
       " ('3', '1', None),\n",
       " ('3', '2', None),\n",
       " ('3', '3', None),\n",
       " ('3', '4', None),\n",
       " ('4', None, None),\n",
       " ('5', None, '1'),\n",
       " ('5', None, '2'),\n",
       " ('6', None, None),\n",
       " ('7', None, None),\n",
       " ('8', None, None),\n",
       " ('9', None, None)]"
      ]
     },
     "execution_count": 406,
     "metadata": {},
     "output_type": "execute_result"
    }
   ],
   "source": [
    "list(ag.answers.keys())"
   ]
  },
  {
   "cell_type": "code",
   "execution_count": 297,
   "metadata": {},
   "outputs": [
    {
     "data": {
      "text/plain": [
       "[('1', None, None),\n",
       " ('2', None, None),\n",
       " ('3', '1', None),\n",
       " ('3', '2', None),\n",
       " ('3', '3', None),\n",
       " ('3', '4', None),\n",
       " ('4', None, None),\n",
       " ('5', None, '1'),\n",
       " ('5', None, '2'),\n",
       " ('6', None, None),\n",
       " ('7', None, None),\n",
       " ('8', None, None),\n",
       " ('9', None, None)]"
      ]
     },
     "execution_count": 297,
     "metadata": {},
     "output_type": "execute_result"
    }
   ],
   "source": [
    "list(ag.grading_info.keys())"
   ]
  },
  {
   "cell_type": "code",
   "execution_count": 270,
   "metadata": {},
   "outputs": [
    {
     "data": {
      "text/plain": [
       "{('1', None): {'version': None,\n",
       "  'answer_key': [{'type': 'int', 'answer': '4'},\n",
       "   {'type': 'other',\n",
       "    'helper': 'graderColorWheel',\n",
       "    'format': '.*:\\\\s+[01]*',\n",
       "    'answer': ''}],\n",
       "  'probpoints': '5'},\n",
       " ('2', None): {'version': None,\n",
       "  'answer_key': [{'type': 'int', 'answer': '2'},\n",
       "   {'type': 'int', 'answer': '5'},\n",
       "   {'type': 'int', 'answer': '3'},\n",
       "   {'type': 'int', 'answer': '3'},\n",
       "   {'type': 'int', 'answer': '27'},\n",
       "   {'type': 'int', 'answer': '17'},\n",
       "   {'type': 'int', 'answer': '12'}],\n",
       "  'probpoints': '5'},\n",
       " ('3', '1'): {'version': None,\n",
       "  'answer_key': [{'type': 'int', 'answer': '2'},\n",
       "   {'type': 'int', 'answer': '5'},\n",
       "   {'type': 'int', 'answer': '3'},\n",
       "   {'type': 'int', 'answer': '3'},\n",
       "   {'type': 'int', 'answer': '27'},\n",
       "   {'type': 'int', 'answer': '17'},\n",
       "   {'type': 'int', 'answer': '12'}],\n",
       "  'probpoints': '0'},\n",
       " ('3', '2'): {'version': None,\n",
       "  'answer_key': [{'type': 'int', 'answer': '2'},\n",
       "   {'type': 'int', 'answer': '5'},\n",
       "   {'type': 'int', 'answer': '3'},\n",
       "   {'type': 'int', 'answer': '3'},\n",
       "   {'type': 'int', 'answer': '27'},\n",
       "   {'type': 'int', 'answer': '17'},\n",
       "   {'type': 'int', 'answer': '12'}],\n",
       "  'probpoints': '0'},\n",
       " ('3', '3'): {'version': None,\n",
       "  'answer_key': [{'type': 'int', 'answer': '2'},\n",
       "   {'type': 'int', 'answer': '5'},\n",
       "   {'type': 'int', 'answer': '3'},\n",
       "   {'type': 'int', 'answer': '3'},\n",
       "   {'type': 'int', 'answer': '27'},\n",
       "   {'type': 'int', 'answer': '17'},\n",
       "   {'type': 'int', 'answer': '12'}],\n",
       "  'probpoints': '0'},\n",
       " ('3', '4'): {'version': None,\n",
       "  'answer_key': [{'type': 'int', 'answer': '2'},\n",
       "   {'type': 'int', 'answer': '5'},\n",
       "   {'type': 'int', 'answer': '3'},\n",
       "   {'type': 'int', 'answer': '3'},\n",
       "   {'type': 'int', 'answer': '27'},\n",
       "   {'type': 'int', 'answer': '17'},\n",
       "   {'type': 'int', 'answer': '12'}],\n",
       "  'probpoints': '0'},\n",
       " ('4', None): {'version': None,\n",
       "  'answer_key': [{'type': 'other',\n",
       "    'answer': 'D101010110101DDD',\n",
       "    'helper': 'boolEquivalentTruthTable'},\n",
       "   {'type': 'other',\n",
       "    'answer': \"['D110', 72, '1DDD', 1001]\",\n",
       "    'helper': 'boolEquivalentKMap'},\n",
       "   {'type': 'other',\n",
       "    'answer': '(M3 | M0) & (~M3 | ~M0)',\n",
       "    'helper': {'func': 'boolEquivalentExpression',\n",
       "     'vars': ['M0', 'M1', 'M2', 'M3'],\n",
       "     'cost': 6}},\n",
       "   {'type': 'file',\n",
       "    'answer': 'assets_4/month31.circ',\n",
       "    'helper': {'func': 'logisimCombinationalTester',\n",
       "     'config': 'testfile_month31.txt'}}],\n",
       "  'probpoints': '10'},\n",
       " ('5', None): {'version': '2',\n",
       "  'answer_key': [{'type': 'other',\n",
       "    'answer': 'D101010110101DDD',\n",
       "    'helper': 'boolEquivalentTruthTable'},\n",
       "   {'type': 'other',\n",
       "    'answer': \"['D110', 72, '1DDD', 1001]\",\n",
       "    'helper': 'boolEquivalentKMap'},\n",
       "   {'type': 'other',\n",
       "    'answer': '(M3 | M0) & (~M3 | ~M0)',\n",
       "    'helper': {'func': 'boolEquivalentExpression',\n",
       "     'vars': ['M0', 'M1', 'M2', 'M3'],\n",
       "     'cost': 6}},\n",
       "   {'type': 'file',\n",
       "    'answer': 'assets_4/month31.circ',\n",
       "    'helper': {'func': 'logisimCombinationalTester',\n",
       "     'config': 'testfile_month31.txt'}}],\n",
       "  'probpoints': '0'},\n",
       " ('6', None): {'version': None,\n",
       "  'answer_key': [{'type': 'other',\n",
       "    'answer': \"['in2 | in1 | in0', 'in2 | in1', '(in2 | in1) & (in2 | in0)', 'in2', 'in2 & (in1 | in0)', 'in2 & in1', 'in2 & in1 & in0']\",\n",
       "    'helper': {'func': 'boolEquivalentExpression',\n",
       "     'vars': ['in2', 'in1', 'in0'],\n",
       "     'form': 'pos'}},\n",
       "   {'type': 'file',\n",
       "    'answer': 'assets_6/thermometer_encoder.circ',\n",
       "    'helper': {'func': 'logisimCombinationalTester',\n",
       "     'config': 'testfile_thermometer_encoder.txt'}}],\n",
       "  'probpoints': '10'},\n",
       " ('7', None): {'version': None,\n",
       "  'answer_key': [{'type': 'other',\n",
       "    'answer': '1101',\n",
       "    'helper': 'boolEquivalentTruthTable'},\n",
       "   {'type': 'other',\n",
       "    'answer': \"['x->0', '(x->0)->y']\",\n",
       "    'helper': {'func': 'boolEquivalentExpression',\n",
       "     'vars': ['x', 'y'],\n",
       "     'ops': ['->']}},\n",
       "   {'type': 'other',\n",
       "    'answer': \"['~p', 1, '(~p & ~q) | (p & q)']\",\n",
       "    'helper': {'func': 'boolEquivalentExpression', 'vars': ['p', 'q', 'r']}}],\n",
       "  'probpoints': '10'},\n",
       " ('8', None): {'version': None,\n",
       "  'answer_key': [{'type': 'other',\n",
       "    'answer': '8.pdf',\n",
       "    'helper': {'func': 'pdfGrader'}}],\n",
       "  'probpoints': '3'},\n",
       " ('9', None): {'version': None,\n",
       "  'answer_key': [{'type': 'other',\n",
       "    'answer': '9.pdf',\n",
       "    'helper': {'func': 'pdfGrader'}}],\n",
       "  'probpoints': '3'}}"
      ]
     },
     "execution_count": 270,
     "metadata": {},
     "output_type": "execute_result"
    }
   ],
   "source": []
  },
  {
   "cell_type": "code",
   "execution_count": 255,
   "metadata": {},
   "outputs": [
    {
     "data": {
      "text/plain": [
       "[{'probnum': '1',\n",
       "  'text': [[],\n",
       "   ['red: ',\n",
       "    'red-orange: ',\n",
       "    'orange: ',\n",
       "    'yellow-orange: ',\n",
       "    'yellow: ',\n",
       "    'yellow-green: ',\n",
       "    'green: ',\n",
       "    'blue-green: ',\n",
       "    'blue: ',\n",
       "    'blue-violet: ',\n",
       "    'violet: ',\n",
       "    'red-violet: ']]},\n",
       " {'probnum': '2', 'text': [[], [], [], [], [], [], []]},\n",
       " {'probnum': '3', 'subprobnum': '1', 'text': [[]]},\n",
       " {'probnum': '3', 'subprobnum': '2', 'text': [[]]},\n",
       " {'probnum': '3', 'subprobnum': '3', 'text': [[], ['3_ver3.pdf']]},\n",
       " {'probnum': '3', 'subprobnum': '4', 'text': [[]]},\n",
       " {'probnum': '4', 'text': [[], [], [], ['assets_4/month31.circ']]},\n",
       " {'probnum': '5',\n",
       "  'version': '1',\n",
       "  'text': [[], [], [], ['assets_5_ver1/boolean_counting.circ']]},\n",
       " {'probnum': '5',\n",
       "  'version': '2',\n",
       "  'text': [[], [], [], [], ['assets_5_ver2/ternary_operator.circ']]},\n",
       " {'probnum': '6', 'text': [[], ['assets_6/thermometer_encoder.circ']]},\n",
       " {'probnum': '7', 'text': [[], [], []]},\n",
       " {'probnum': '8', 'text': [['8.pdf']]},\n",
       " {'probnum': '9', 'text': [[' 9.pdf']]}]"
      ]
     },
     "execution_count": 255,
     "metadata": {},
     "output_type": "execute_result"
    }
   ],
   "source": [
    "ag.answers"
   ]
  },
  {
   "cell_type": "code",
   "execution_count": 188,
   "metadata": {},
   "outputs": [
    {
     "data": {
      "text/plain": [
       "'# Answer 3.1\\n#\\n# Write the boolean algebra expression as specified. Use only operators &, |, and ~. \\n# (only write the expression in terms of a, b, c, and d - do not include \"x =\")\\n\\n'"
      ]
     },
     "execution_count": 188,
     "metadata": {},
     "output_type": "execute_result"
    }
   ],
   "source": [
    "b.split('---\\n')[3]"
   ]
  },
  {
   "cell_type": "code",
   "execution_count": 169,
   "metadata": {},
   "outputs": [
    {
     "data": {
      "text/plain": [
       "'1'"
      ]
     },
     "execution_count": 169,
     "metadata": {},
     "output_type": "execute_result"
    }
   ],
   "source": [
    "re.search(r'# Answer\\s+(\\d+)(.(\\d+))?\\n',b.split('---\\n')[3])[3]"
   ]
  },
  {
   "cell_type": "code",
   "execution_count": 170,
   "metadata": {},
   "outputs": [
    {
     "data": {
      "text/plain": [
       "['', '\\n']"
      ]
     },
     "execution_count": 170,
     "metadata": {},
     "output_type": "execute_result"
    }
   ],
   "source": [
    "p = re.compile(r'(#(.*?)\\n)+')\n",
    "p.sub('#\\n',b.split('---\\n')[3]).split('#\\n')"
   ]
  },
  {
   "cell_type": "code",
   "execution_count": 55,
   "metadata": {},
   "outputs": [],
   "source": [
    "g = AutoGraderHelpers()"
   ]
  },
  {
   "cell_type": "code",
   "execution_count": 56,
   "metadata": {},
   "outputs": [
    {
     "data": {
      "text/plain": [
       "True"
      ]
     },
     "execution_count": 56,
     "metadata": {},
     "output_type": "execute_result"
    }
   ],
   "source": [
    "g.matchList(answer=[['0','1','4','5'],['2','4']],testin=\"1 0 4 5\\n2 3\",cond='any')"
   ]
  },
  {
   "cell_type": "code",
   "execution_count": 57,
   "metadata": {},
   "outputs": [
    {
     "data": {
      "text/plain": [
       "[True]"
      ]
     },
     "execution_count": 57,
     "metadata": {},
     "output_type": "execute_result"
    }
   ],
   "source": [
    "g.boolEquivalentExpression(vars=['a','b','c'],testin=\"a&b\",answer=\"a&b\")"
   ]
  },
  {
   "cell_type": "code",
   "execution_count": 58,
   "metadata": {},
   "outputs": [
    {
     "data": {
      "text/plain": [
       "c"
      ]
     },
     "execution_count": 58,
     "metadata": {},
     "output_type": "execute_result"
    }
   ],
   "source": [
    "exprvar('c')"
   ]
  },
  {
   "cell_type": "code",
   "execution_count": null,
   "metadata": {},
   "outputs": [],
   "source": [
    "y = []\n",
    "for e in map(exprvar,x):\n",
    "    y.append(e)"
   ]
  },
  {
   "cell_type": "code",
   "execution_count": null,
   "metadata": {},
   "outputs": [],
   "source": [
    "z = 'a & b | ~b'"
   ]
  },
  {
   "cell_type": "code",
   "execution_count": null,
   "metadata": {},
   "outputs": [],
   "source": [
    "exec(\"{0}=y[0]\".format(x[0]))\n",
    "exec(\"{0}=y[1]\".format(x[1]))"
   ]
  },
  {
   "cell_type": "code",
   "execution_count": null,
   "metadata": {},
   "outputs": [],
   "source": [
    "a & b | ~b"
   ]
  },
  {
   "cell_type": "code",
   "execution_count": null,
   "metadata": {},
   "outputs": [],
   "source": [
    "expr('a&b').equivalent(expr('a&b'))"
   ]
  },
  {
   "cell_type": "code",
   "execution_count": null,
   "metadata": {},
   "outputs": [],
   "source": [
    "for x,y in zip([1,2],[3,4]):\n",
    "    print(x,y)"
   ]
  },
  {
   "cell_type": "code",
   "execution_count": null,
   "metadata": {},
   "outputs": [],
   "source": []
  }
 ],
 "metadata": {
  "kernelspec": {
   "display_name": "Python 3",
   "language": "python",
   "name": "python3"
  },
  "language_info": {
   "codemirror_mode": {
    "name": "ipython",
    "version": 3
   },
   "file_extension": ".py",
   "mimetype": "text/x-python",
   "name": "python",
   "nbconvert_exporter": "python",
   "pygments_lexer": "ipython3",
   "version": "3.8.2"
  }
 },
 "nbformat": 4,
 "nbformat_minor": 4
}
