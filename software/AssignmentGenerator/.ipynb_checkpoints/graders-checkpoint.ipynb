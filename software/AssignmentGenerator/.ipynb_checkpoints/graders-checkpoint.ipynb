{
 "cells": [
  {
   "cell_type": "code",
   "execution_count": 1,
   "metadata": {},
   "outputs": [],
   "source": [
    "from pyeda.inter import *"
   ]
  },
  {
   "cell_type": "code",
   "execution_count": 20,
   "metadata": {},
   "outputs": [],
   "source": [
    "class DigitalLogicGrader:\n",
    "    def __init__(self):\n",
    "        pass\n",
    "    def boolEquivalentExpression(self,vars,answer,testinput,form=None):\n",
    "        testinput = testinput.strip().split('\\n')\n",
    "        assert type(answer) is str or type(answer) is list\n",
    "        if type(answer) is str:\n",
    "            answer = [answer]\n",
    "        assert len(testinput)==len(answer)\n",
    "        assert form in [None, 'pos', 'sop', 'DNF', 'CNF']\n",
    "        for _vn in vars:\n",
    "            exec(\"{0}=exprvar('{0}')\".format(_vn))\n",
    "        _results=[]\n",
    "        for _e1,_e2 in zip(answer,testinput):\n",
    "            _results.append(expr(_e1).equivalent(_e2))\n",
    "        return _results"
   ]
  },
  {
   "cell_type": "code",
   "execution_count": 21,
   "metadata": {},
   "outputs": [],
   "source": [
    "g = DigitalLogicGrader()"
   ]
  },
  {
   "cell_type": "code",
   "execution_count": 22,
   "metadata": {},
   "outputs": [
    {
     "data": {
      "text/plain": [
       "[True]"
      ]
     },
     "execution_count": 22,
     "metadata": {},
     "output_type": "execute_result"
    }
   ],
   "source": [
    "g.boolEquivalentExpression(vars=['a','b','c'],testinput=\"a&b\",answer=\"a&b\")"
   ]
  },
  {
   "cell_type": "code",
   "execution_count": null,
   "metadata": {},
   "outputs": [],
   "source": [
    "exprvar('c')"
   ]
  },
  {
   "cell_type": "code",
   "execution_count": null,
   "metadata": {},
   "outputs": [],
   "source": [
    "y = []\n",
    "for e in map(exprvar,x):\n",
    "    y.append(e)"
   ]
  },
  {
   "cell_type": "code",
   "execution_count": null,
   "metadata": {},
   "outputs": [],
   "source": [
    "z = 'a & b | ~b'"
   ]
  },
  {
   "cell_type": "code",
   "execution_count": null,
   "metadata": {},
   "outputs": [],
   "source": [
    "exec(\"{0}=y[0]\".format(x[0]))\n",
    "exec(\"{0}=y[1]\".format(x[1]))"
   ]
  },
  {
   "cell_type": "code",
   "execution_count": null,
   "metadata": {},
   "outputs": [],
   "source": [
    "a & b | ~b"
   ]
  },
  {
   "cell_type": "code",
   "execution_count": null,
   "metadata": {},
   "outputs": [],
   "source": [
    "expr('a&b').equivalent(expr('a&b'))"
   ]
  },
  {
   "cell_type": "code",
   "execution_count": null,
   "metadata": {},
   "outputs": [],
   "source": [
    "for x,y in zip([1,2],[3,4]):\n",
    "    print(x,y)"
   ]
  },
  {
   "cell_type": "code",
   "execution_count": null,
   "metadata": {},
   "outputs": [],
   "source": []
  }
 ],
 "metadata": {
  "kernelspec": {
   "display_name": "Python 3",
   "language": "python",
   "name": "python3"
  },
  "language_info": {
   "codemirror_mode": {
    "name": "ipython",
    "version": 3
   },
   "file_extension": ".py",
   "mimetype": "text/x-python",
   "name": "python",
   "nbconvert_exporter": "python",
   "pygments_lexer": "ipython3",
   "version": "3.8.2"
  }
 },
 "nbformat": 4,
 "nbformat_minor": 4
}
