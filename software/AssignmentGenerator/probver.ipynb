{
 "cells": [
  {
   "cell_type": "code",
   "execution_count": 1,
   "metadata": {},
   "outputs": [],
   "source": [
    "import pickle\n",
    "import csv\n",
    "import os\n",
    "import yaml\n",
    "import sys\n",
    "import argparse"
   ]
  },
  {
   "cell_type": "code",
   "execution_count": 2,
   "metadata": {},
   "outputs": [],
   "source": [
    "def extractHeader(allcontent):\n",
    "    all_content = allcontent.strip().rstrip()\n",
    "    yaml_header = {}\n",
    "    if all_content[:3]==\"---\":\n",
    "        i = all_content[4:].find(\"\\n---\")\n",
    "        if i!=-1:\n",
    "            try:\n",
    "                #import pdb; pdb.set_trace()\n",
    "                yaml_header = yaml.full_load(all_content[0:i+5])\n",
    "                all_content = all_content[i+9:].strip()\n",
    "            except yaml.scanner.ScannerError as e:\n",
    "                raise SystemExit(\"Error: YAML Header has error: {0}\".format(e))\n",
    "            except:\n",
    "                raise SystemExit(\"Error: YAML Header has error\")\n",
    "    return (yaml_header,all_content)"
   ]
  },
  {
   "cell_type": "code",
   "execution_count": 3,
   "metadata": {},
   "outputs": [],
   "source": [
    "def readRosterFile(roster_filename='roster.csv'):\n",
    "    with open(roster_filename, newline='') as csvfile:\n",
    "        roster_reader = csv.reader(csvfile, delimiter=',', \n",
    "                                   quotechar='|', skipinitialspace=True)\n",
    "        roster = []\n",
    "        for row in roster_reader:\n",
    "            roster.append([row[0].strip(), row[1].strip().split()[0],row[2].strip().split()[0]])\n",
    "    return roster"
   ]
  },
  {
   "cell_type": "code",
   "execution_count": 48,
   "metadata": {},
   "outputs": [],
   "source": [
    "def readAnswerFile(answerfilename):\n",
    "    with open(answerfilename,'r') as f:\n",
    "        content = f.read()\n",
    "    header,_ = extractHeader(content)\n",
    "    return header"
   ]
  },
  {
   "cell_type": "code",
   "execution_count": 57,
   "metadata": {},
   "outputs": [],
   "source": [
    "def main(args):\n",
    "    roster = readRosterFile(args.roster)\n",
    "    student = readAnswerFile(args.answers)['student'].split()\n",
    "    fn = student[0]\n",
    "    ln = student[1]\n",
    "    student_record = [e for e in roster if e[1].lower()==ln.lower() and e[2].lower()==fn.lower()]\n",
    "    assert len(student_record)==1, \"There should be exactly one student named {0} {1}\".format(fn,ln)\n",
    "    student_record = tuple(student_record[0])\n",
    "    grading_info = pickle.load(open(args.gradinginfo,'rb'))[student_record]\n",
    "    prob_info = [e for e in grading_info if e['probnum']==str(args.probnum)][0]\n",
    "    print(prob_info.get('version',0))"
   ]
  },
  {
   "cell_type": "code",
   "execution_count": 62,
   "metadata": {},
   "outputs": [
    {
     "name": "stdout",
     "output_type": "stream",
     "text": [
      "1\n"
     ]
    }
   ],
   "source": [
    "if __name__ == \"__main__\":\n",
    "    # execute only if run as a script\n",
    "    parser = argparse.ArgumentParser(description='Get version of problem assigned to the student.')\n",
    "    parser.add_argument(\"probnum\",help=\"Problem number.\",type=int)\n",
    "    parser.add_argument(\"-a\",\"--answers\",nargs=1,default=\"answers.txt\",help=\"Answers file.\")\n",
    "    parser.add_argument(\"-r\",\"--roster\",nargs=1,default=\"/autograder/source/roster.csv\",help=\"Roster file.\")\n",
    "    parser.add_argument(\"-g\",\"--gradinginfo\",nargs=1,default=\"/autograder/source/grading_info.pkl\",help=\"Instructor mode.\")\n",
    "    if (\"ipykernel_launcher\" in sys.argv[0]):\n",
    "        args = parser.parse_args(\"5 -r ../source/roster.csv -g ../source/grading_info.pkl -a answers_sample_1.txt\".split())\n",
    "        os.chdir('/Users/mbs/Google Drive/Courses/ECEM16/2020 Spring/psets/pset1/Autograder/submission')\n",
    "    else:\n",
    "        args = parser.parse_args()\n",
    "    if type(args.answers)==list:\n",
    "        args.answers = args.answers[0]\n",
    "    if type(args.roster)==list:\n",
    "        args.roster = args.roster[0]\n",
    "    if type(args.gradinginfo)==list:\n",
    "        args.gradinginfo = args.gradinginfo[0]\n",
    "    main(args)"
   ]
  },
  {
   "cell_type": "code",
   "execution_count": null,
   "metadata": {},
   "outputs": [],
   "source": []
  },
  {
   "cell_type": "code",
   "execution_count": null,
   "metadata": {},
   "outputs": [],
   "source": []
  }
 ],
 "metadata": {
  "kernelspec": {
   "display_name": "Python 3",
   "language": "python",
   "name": "python3"
  },
  "language_info": {
   "codemirror_mode": {
    "name": "ipython",
    "version": 3
   },
   "file_extension": ".py",
   "mimetype": "text/x-python",
   "name": "python",
   "nbconvert_exporter": "python",
   "pygments_lexer": "ipython3",
   "version": "3.8.2"
  }
 },
 "nbformat": 4,
 "nbformat_minor": 4
}
